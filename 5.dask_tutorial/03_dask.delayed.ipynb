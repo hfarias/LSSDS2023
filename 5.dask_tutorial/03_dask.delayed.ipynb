{
 "cells": [
  {
   "cell_type": "markdown",
   "id": "48a9fd8f",
   "metadata": {},
   "source": [
    "<img src=\"https://docs.dask.org/en/latest/_images/dask_horizontal.svg\" align=\"right\" width=\"30%\" alt=\"Dask logo\">\n"
   ]
  },
  {
   "cell_type": "markdown",
   "id": "603377d5",
   "metadata": {},
   "source": [
    "In Dask, `delayed` is a function that allows you to create deferred execution graphs for computational operations. Instead of performing calculations immediately when a function is called, `delayed` wraps the function and turns it into a delayed version that will only execute when necessary. This is particularly useful when working with operations that may be costly in terms of runtime or when handling large datasets that do not fit into memory.\n",
    "\n",
    "When using `delayed`, a directed acyclic graph (DAG) is constructed that represents the operations in the order they need to be executed. Dask can analyze this graph and optimize the execution efficiently by breaking down the operations into smaller tasks that can be parallelized.\n",
    "\n",
    "In simpler terms, `delayed` allows you to postpone the calculation of an operation until it's necessary to obtain the final result. This is especially useful in scenarios where:\n",
    "\n",
    "1. **Resource Efficiency:** You can delay the calculation of costly operations until absolutely necessary, which can help optimize the use of computational resources.\n",
    "\n",
    "2. **Parallelism and Concurrency:** Dask can split delayed operations into smaller tasks and execute them in parallel, significantly speeding up the computation time, especially on systems with multiple CPU cores or distributed clusters.\n",
    "\n",
    "3. **Handling Large Data:** Dask can work with data that exceeds available memory capacity by dividing it into smaller chunks and computing only the necessary parts at any given time.\n",
    "\n",
    "In summary, `delayed` in Dask provides a way to create deferred execution graphs that allow for more efficient and parallel computation of operations, which is particularly beneficial when dealing with complex calculations or large datasets.\n"
   ]
  },
  {
   "cell_type": "markdown",
   "id": "d7574e10",
   "metadata": {},
   "source": [
    "Let's create a simple example where we add and multiply numbers using both approaches: one in serial Python and the other using `delayed` in Dask.\n",
    "\n",
    "**Código Serial en Python:**\n",
    "\n",
    "```python\n",
    "def add(a, b):\n",
    "    return a + b\n",
    "\n",
    "def multiply(x, y):\n",
    "    return x * y\n",
    "\n",
    "result1 = add(5, 10)\n",
    "result2 = multiply(result1, 20)\n",
    "final_result = result2\n",
    "print(\"Resultado final:\", final_result)\n",
    "```\n",
    "\n",
    "**Código utilizando `delayed` en Dask:**\n",
    "\n",
    "```python\n",
    "from dask import delayed\n",
    "\n",
    "@delayed\n",
    "def add(a, b):\n",
    "    return a + b\n",
    "\n",
    "@delayed\n",
    "def multiply(x, y):\n",
    "    return x * y\n",
    "\n",
    "result1 = add(5, 10)\n",
    "result2 = multiply(result1, 20)\n",
    "final_result = result2.compute()\n",
    "print(\"Resultado final:\", final_result)\n",
    "```\n",
    "\n",
    "Comparación de pasos:\n",
    "\n",
    "1. **Definir funciones:**\n",
    "   Ambos códigos definen las mismas funciones `add` y `multiply`.\n",
    "\n",
    "2. **Operaciones:**\n",
    "   Ambos códigos realizan las mismas operaciones: sumar 5 y 10, y luego multiplicar el resultado por 20.\n",
    "\n",
    "3. **Uso de `delayed`:**\n",
    "   En el código de Dask, utilizamos la decoración `@delayed` para crear versiones retrasadas de las funciones `add` y `multiply`.\n",
    "\n",
    "4. **Creación de resultados retrasados:**\n",
    "   En el código de Dask, creamos resultados retrasados mediante la llamada a las funciones retrasadas.\n",
    "\n",
    "5. **Cálculo y obtención del resultado:**\n",
    "   En el código de Dask, usamos `.compute()` para calcular el resultado final. Esto ejecuta el gráfico de ejecución retrasada.\n",
    "\n",
    "En este ejemplo, ambos códigos producirán el mismo resultado: 300. Sin embargo, el enfoque de Dask con `delayed` es beneficioso cuando se trata de cálculos más grandes y complejos que pueden ser paralelizados para mejorar el rendimiento y la eficiencia en comparación con la versión serial.\n",
    "\n",
    "Recuerda que Dask realmente brilla cuando estás trabajando con grandes conjuntos de datos o cálculos que pueden beneficiarse del paralelismo, ya que puede administrar eficientemente la ejecución en diferentes núcleos de CPU o incluso en clústeres distribuidos."
   ]
  },
  {
   "cell_type": "markdown",
   "id": "605c8c9f",
   "metadata": {},
   "source": [
    "## Basic Concepts\n",
    "\n",
    "First, let's create some toy functions, `inc` and `add`, that sleep for a while to simulate work. Then, we will program the normal execution of these functions.\n",
    "\n",
    "In the next section, we will parallelize this code.\n"
   ]
  },
  {
   "cell_type": "code",
   "execution_count": 1,
   "id": "095e6963",
   "metadata": {},
   "outputs": [],
   "source": [
    "from time import sleep\n",
    "\n",
    "\n",
    "def inc(x):\n",
    "    sleep(1)\n",
    "    return x + 1\n",
    "\n",
    "\n",
    "def add(x, y):\n",
    "    sleep(1)\n",
    "    return x + y"
   ]
  },
  {
   "cell_type": "code",
   "execution_count": 2,
   "id": "d326761f",
   "metadata": {},
   "outputs": [
    {
     "name": "stdout",
     "output_type": "stream",
     "text": [
      "CPU times: user 1.83 ms, sys: 2.91 ms, total: 4.75 ms\n",
      "Wall time: 3.01 s\n"
     ]
    }
   ],
   "source": [
    "%%time\n",
    "# Esto tarda tres segundos en ejecutarse porque llamamos a cada uno\n",
    "# función secuencialmente, una tras otra\n",
    "\n",
    "x = inc(1)\n",
    "y = inc(2)\n",
    "z = add(x, y)"
   ]
  },
  {
   "cell_type": "markdown",
   "id": "df6124b0",
   "metadata": {},
   "source": [
    "### Parallelizing with the `dask.delayed` Decorator\n",
    "\n",
    "Those two increment calls *could* be executed in parallel because they are completely independent of each other.\n",
    "\n",
    "We will make the `inc` and `add` functions lazy by using the `dask.delayed` decorator. When we call the delayed version with arguments, just like before, the original function is not yet called, which is why the cell execution finishes very quickly.\n",
    "Instead, a *delayed object* is created, which tracks the function to be called and the arguments passed to it.\n"
   ]
  },
  {
   "cell_type": "code",
   "execution_count": 3,
   "id": "0a1f6ad2",
   "metadata": {},
   "outputs": [],
   "source": [
    "import dask\n",
    "\n",
    "\n",
    "@dask.delayed\n",
    "def inc(x):\n",
    "    sleep(1)\n",
    "    return x + 1\n",
    "\n",
    "\n",
    "@dask.delayed\n",
    "def add(x, y):\n",
    "    sleep(1)\n",
    "    return x + y"
   ]
  },
  {
   "cell_type": "code",
   "execution_count": 4,
   "id": "13a67d1c",
   "metadata": {},
   "outputs": [
    {
     "name": "stdout",
     "output_type": "stream",
     "text": [
      "CPU times: user 480 μs, sys: 121 μs, total: 601 μs\n",
      "Wall time: 566 μs\n"
     ]
    }
   ],
   "source": [
    "%%time\n",
    "# Esto se ejecuta inmediatamente, todo lo que hace es construir un gráfico\n",
    "\n",
    "x = inc(1)\n",
    "y = inc(2)\n",
    "z = add(x, y)"
   ]
  },
  {
   "cell_type": "code",
   "execution_count": 5,
   "id": "f46e30b6",
   "metadata": {},
   "outputs": [
    {
     "data": {
      "text/plain": [
       "Delayed('add-8e797afc-6746-4a22-945f-9563682bdf06')"
      ]
     },
     "execution_count": 5,
     "metadata": {},
     "output_type": "execute_result"
    }
   ],
   "source": [
    "z"
   ]
  },
  {
   "cell_type": "markdown",
   "id": "753868fc",
   "metadata": {},
   "source": [
    "This executed immediately since nothing has happened yet.\n",
    "\n",
    "To get the result, call `compute`. Note that this runs faster than the original code.\n"
   ]
  },
  {
   "cell_type": "code",
   "execution_count": 6,
   "id": "3570b64b",
   "metadata": {},
   "outputs": [
    {
     "name": "stdout",
     "output_type": "stream",
     "text": [
      "CPU times: user 125 ms, sys: 29.4 ms, total: 154 ms\n",
      "Wall time: 2.23 s\n"
     ]
    },
    {
     "data": {
      "text/plain": [
       "5"
      ]
     },
     "execution_count": 6,
     "metadata": {},
     "output_type": "execute_result"
    }
   ],
   "source": [
    "%%time\n",
    "# Esto realmente ejecuta nuestro cálculo usando un grupo de subprocesos locales\n",
    "z.compute()"
   ]
  },
  {
   "cell_type": "markdown",
   "id": "886eee77",
   "metadata": {},
   "source": [
    "## What Just Happened?\n",
    "\n",
    "The object `z` is a lazy `Delayed` object. This object contains everything needed to compute the final result, including references to all the functions required and their inputs and relationships with each other. We can evaluate the result with `.compute()` as shown above, or we can visualize the task graph for this value using `.visualize()`.\n"
   ]
  },
  {
   "cell_type": "code",
   "execution_count": 7,
   "id": "916ded14",
   "metadata": {},
   "outputs": [
    {
     "data": {
      "text/plain": [
       "Delayed('add-8e797afc-6746-4a22-945f-9563682bdf06')"
      ]
     },
     "execution_count": 7,
     "metadata": {},
     "output_type": "execute_result"
    }
   ],
   "source": [
    "z"
   ]
  },
  {
   "cell_type": "code",
   "execution_count": 8,
   "id": "ad65a8dd",
   "metadata": {},
   "outputs": [
    {
     "data": {
      "image/png": "[encoded data removed]",
      "text/plain": [
       "<IPython.core.display.Image object>"
      ]
     },
     "execution_count": 8,
     "metadata": {},
     "output_type": "execute_result"
    }
   ],
   "source": [
    "z.visualize()"
   ]
  },
  {
   "cell_type": "markdown",
   "id": "7fa4f74f",
   "metadata": {},
   "source": [
    "## What Just Happened?\n",
    "\n",
    "The object `z` is a lazy `Delayed` object. This object contains everything needed to compute the final result, including references to all the functions required and their inputs and relationships with each other. We can evaluate the result with `.compute()` as shown above, or we can visualize the task graph for this value using `.visualize()`.\n"
   ]
  },
  {
   "cell_type": "markdown",
   "id": "083affde-621f-434c-831f-a6fb2ddd128c",
   "metadata": {},
   "source": [
    "Note that this includes the names of the previous functions and the logical flow from the outputs of the `inc` functions to the inputs of `add`.\n"
   ]
  },
  {
   "cell_type": "code",
   "execution_count": null,
   "id": "2482801d-d588-48de-aed6-c2fa229292ac",
   "metadata": {},
   "outputs": [],
   "source": []
  }
 ],
 "metadata": {
  "kernelspec": {
   "display_name": "Python [conda env:data_analysis]",
   "language": "python",
   "name": "conda-env-data_analysis-py"
  },
  "language_info": {
   "codemirror_mode": {
    "name": "ipython",
    "version": 3
   },
   "file_extension": ".py",
   "mimetype": "text/x-python",
   "name": "python",
   "nbconvert_exporter": "python",
   "pygments_lexer": "ipython3",
   "version": "3.12.4"
  }
 },
 "nbformat": 4,
 "nbformat_minor": 5
}
